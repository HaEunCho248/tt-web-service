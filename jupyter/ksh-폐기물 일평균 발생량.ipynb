{
 "cells": [
  {
   "cell_type": "code",
   "execution_count": 1,
   "id": "5e47980f",
   "metadata": {},
   "outputs": [],
   "source": [
    "import numpy as np\n",
    "import pandas as pd\n",
    "import matplotlib.pyplot as plt\n",
    "import seaborn as sns\n",
    "import random"
   ]
  },
  {
   "cell_type": "code",
   "execution_count": 2,
   "id": "f89ced38",
   "metadata": {},
   "outputs": [],
   "source": [
    "df = pd.read_excel(\"./폐기물 종류별 일평균 발생량.xlsx\")"
   ]
  },
  {
   "cell_type": "code",
   "execution_count": 3,
   "id": "265d1cb8",
   "metadata": {
    "scrolled": true
   },
   "outputs": [
    {
     "data": {
      "text/html": [
       "<div>\n",
       "<style scoped>\n",
       "    .dataframe tbody tr th:only-of-type {\n",
       "        vertical-align: middle;\n",
       "    }\n",
       "\n",
       "    .dataframe tbody tr th {\n",
       "        vertical-align: top;\n",
       "    }\n",
       "\n",
       "    .dataframe thead th {\n",
       "        text-align: right;\n",
       "    }\n",
       "</style>\n",
       "<table border=\"1\" class=\"dataframe\">\n",
       "  <thead>\n",
       "    <tr style=\"text-align: right;\">\n",
       "      <th></th>\n",
       "      <th>0</th>\n",
       "      <th>1</th>\n",
       "      <th>2</th>\n",
       "      <th>3</th>\n",
       "      <th>4</th>\n",
       "    </tr>\n",
       "  </thead>\n",
       "  <tbody>\n",
       "    <tr>\n",
       "      <th>Unnamed: 0</th>\n",
       "      <td>총계</td>\n",
       "      <td>생활폐기물</td>\n",
       "      <td>사업장배출시설계폐기물</td>\n",
       "      <td>건설폐기물</td>\n",
       "      <td>지정폐기물</td>\n",
       "    </tr>\n",
       "    <tr>\n",
       "      <th>2012</th>\n",
       "      <td>394,496</td>\n",
       "      <td>48,990</td>\n",
       "      <td>146,390</td>\n",
       "      <td>186,629</td>\n",
       "      <td>12,487</td>\n",
       "    </tr>\n",
       "    <tr>\n",
       "      <th>2013</th>\n",
       "      <td>393,116</td>\n",
       "      <td>48,728</td>\n",
       "      <td>148,443</td>\n",
       "      <td>183,538</td>\n",
       "      <td>12,407</td>\n",
       "    </tr>\n",
       "    <tr>\n",
       "      <th>2014</th>\n",
       "      <td>401,658</td>\n",
       "      <td>49,915</td>\n",
       "      <td>153,189</td>\n",
       "      <td>185,382</td>\n",
       "      <td>13,172</td>\n",
       "    </tr>\n",
       "    <tr>\n",
       "      <th>2015</th>\n",
       "      <td>418,214</td>\n",
       "      <td>51,247</td>\n",
       "      <td>155,305</td>\n",
       "      <td>198,260</td>\n",
       "      <td>13,402</td>\n",
       "    </tr>\n",
       "    <tr>\n",
       "      <th>2016</th>\n",
       "      <td>429,128</td>\n",
       "      <td>53,772</td>\n",
       "      <td>162,129</td>\n",
       "      <td>199,444</td>\n",
       "      <td>13,783</td>\n",
       "    </tr>\n",
       "    <tr>\n",
       "      <th>2017</th>\n",
       "      <td>429,531</td>\n",
       "      <td>53,490</td>\n",
       "      <td>164,874</td>\n",
       "      <td>196,262</td>\n",
       "      <td>14,905</td>\n",
       "    </tr>\n",
       "    <tr>\n",
       "      <th>2018</th>\n",
       "      <td>446,102</td>\n",
       "      <td>56,035</td>\n",
       "      <td>167,727</td>\n",
       "      <td>206,951</td>\n",
       "      <td>15,389</td>\n",
       "    </tr>\n",
       "    <tr>\n",
       "      <th>2019</th>\n",
       "      <td>497,238</td>\n",
       "      <td>57,961</td>\n",
       "      <td>202,619</td>\n",
       "      <td>221,102</td>\n",
       "      <td>15,556</td>\n",
       "    </tr>\n",
       "    <tr>\n",
       "      <th>2020</th>\n",
       "      <td>534,055</td>\n",
       "      <td>61,597</td>\n",
       "      <td>220,951</td>\n",
       "      <td>236,183</td>\n",
       "      <td>15,324</td>\n",
       "    </tr>\n",
       "  </tbody>\n",
       "</table>\n",
       "</div>"
      ],
      "text/plain": [
       "                  0       1            2        3       4\n",
       "Unnamed: 0       총계   생활폐기물  사업장배출시설계폐기물    건설폐기물   지정폐기물\n",
       "2012        394,496  48,990      146,390  186,629  12,487\n",
       "2013        393,116  48,728      148,443  183,538  12,407\n",
       "2014        401,658  49,915      153,189  185,382  13,172\n",
       "2015        418,214  51,247      155,305  198,260  13,402\n",
       "2016        429,128  53,772      162,129  199,444  13,783\n",
       "2017        429,531  53,490      164,874  196,262  14,905\n",
       "2018        446,102  56,035      167,727  206,951  15,389\n",
       "2019        497,238  57,961      202,619  221,102  15,556\n",
       "2020        534,055  61,597      220,951  236,183  15,324"
      ]
     },
     "execution_count": 3,
     "metadata": {},
     "output_type": "execute_result"
    }
   ],
   "source": [
    "df=df.transpose()\n",
    "df"
   ]
  },
  {
   "cell_type": "code",
   "execution_count": 4,
   "id": "fd74d291",
   "metadata": {
    "scrolled": true
   },
   "outputs": [
    {
     "data": {
      "text/plain": [
       "Text(0, 0.5, 'total')"
      ]
     },
     "execution_count": 4,
     "metadata": {},
     "output_type": "execute_result"
    },
    {
     "data": {
      "image/png": "[encoded data removed]",
      "text/plain": [
       "<Figure size 432x288 with 1 Axes>"
      ]
     },
     "metadata": {
      "needs_background": "light"
     },
     "output_type": "display_data"
    }
   ],
   "source": [
    "data = df[4:]\n",
    "data\n",
    "fig, ax = plt.subplots()\n",
    "ax.bar([2015, 2016, 2017, 2018, 2019, 2020],data[0])\n",
    "plt.xlabel('year')\n",
    "plt.ylabel('total')"
   ]
  }
 ],
 "metadata": {
  "kernelspec": {
   "display_name": "Python 3 (ipykernel)",
   "language": "python",
   "name": "python3"
  },
  "language_info": {
   "codemirror_mode": {
    "name": "ipython",
    "version": 3
   },
   "file_extension": ".py",
   "mimetype": "text/x-python",
   "name": "python",
   "nbconvert_exporter": "python",
   "pygments_lexer": "ipython3",
   "version": "3.9.12"
  }
 },
 "nbformat": 4,
 "nbformat_minor": 5
}

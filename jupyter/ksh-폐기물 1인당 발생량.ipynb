{
 "cells": [
  {
   "cell_type": "code",
   "execution_count": 7,
   "id": "e341a1d8",
   "metadata": {},
   "outputs": [],
   "source": [
    "import numpy as np\n",
    "import pandas as pd\n",
    "import matplotlib.pyplot as plt\n",
    "import seaborn as sns\n",
    "import random"
   ]
  },
  {
   "cell_type": "code",
   "execution_count": 2,
   "id": "c6586f25",
   "metadata": {},
   "outputs": [],
   "source": [
    "df = pd.read_excel(\"./1인당.xlsx\")"
   ]
  },
  {
   "cell_type": "code",
   "execution_count": 3,
   "id": "3e125bca",
   "metadata": {},
   "outputs": [
    {
     "data": {
      "text/html": [
       "<div>\n",
       "<style scoped>\n",
       "    .dataframe tbody tr th:only-of-type {\n",
       "        vertical-align: middle;\n",
       "    }\n",
       "\n",
       "    .dataframe tbody tr th {\n",
       "        vertical-align: top;\n",
       "    }\n",
       "\n",
       "    .dataframe thead th {\n",
       "        text-align: right;\n",
       "    }\n",
       "</style>\n",
       "<table border=\"1\" class=\"dataframe\">\n",
       "  <thead>\n",
       "    <tr style=\"text-align: right;\">\n",
       "      <th></th>\n",
       "      <th>0</th>\n",
       "      <th>1</th>\n",
       "      <th>2</th>\n",
       "      <th>3</th>\n",
       "      <th>4</th>\n",
       "    </tr>\n",
       "  </thead>\n",
       "  <tbody>\n",
       "    <tr>\n",
       "      <th>연도</th>\n",
       "      <td>발생 및 처리(총계)</td>\n",
       "      <td>생활계폐기물</td>\n",
       "      <td>- 1인당 발생량(kg/일)</td>\n",
       "      <td>사업장배출시설계폐기물</td>\n",
       "      <td>건설폐기물</td>\n",
       "    </tr>\n",
       "    <tr>\n",
       "      <th>2015</th>\n",
       "      <td>404,812</td>\n",
       "      <td>51,247</td>\n",
       "      <td>0.97</td>\n",
       "      <td>155,305</td>\n",
       "      <td>198,260</td>\n",
       "    </tr>\n",
       "    <tr>\n",
       "      <th>2016</th>\n",
       "      <td>415,345</td>\n",
       "      <td>53,772</td>\n",
       "      <td>1.01</td>\n",
       "      <td>162,129</td>\n",
       "      <td>199,444</td>\n",
       "    </tr>\n",
       "    <tr>\n",
       "      <th>2017</th>\n",
       "      <td>414,626</td>\n",
       "      <td>53,490</td>\n",
       "      <td>1.01</td>\n",
       "      <td>164,874</td>\n",
       "      <td>196,262</td>\n",
       "    </tr>\n",
       "    <tr>\n",
       "      <th>2018</th>\n",
       "      <td>430,713</td>\n",
       "      <td>56,035</td>\n",
       "      <td>1.06</td>\n",
       "      <td>167,727</td>\n",
       "      <td>206,951</td>\n",
       "    </tr>\n",
       "    <tr>\n",
       "      <th>2019</th>\n",
       "      <td>481,682</td>\n",
       "      <td>57,961</td>\n",
       "      <td>1.09</td>\n",
       "      <td>202,619</td>\n",
       "      <td>221,102</td>\n",
       "    </tr>\n",
       "    <tr>\n",
       "      <th>2020</th>\n",
       "      <td>518,731</td>\n",
       "      <td>61,597</td>\n",
       "      <td>1.16</td>\n",
       "      <td>220,951</td>\n",
       "      <td>236,183</td>\n",
       "    </tr>\n",
       "  </tbody>\n",
       "</table>\n",
       "</div>"
      ],
      "text/plain": [
       "                0       1                2            3        4\n",
       "연도    발생 및 처리(총계)  생활계폐기물  - 1인당 발생량(kg/일)  사업장배출시설계폐기물    건설폐기물\n",
       "2015      404,812  51,247             0.97      155,305  198,260\n",
       "2016      415,345  53,772             1.01      162,129  199,444\n",
       "2017      414,626  53,490             1.01      164,874  196,262\n",
       "2018      430,713  56,035             1.06      167,727  206,951\n",
       "2019      481,682  57,961             1.09      202,619  221,102\n",
       "2020      518,731  61,597             1.16      220,951  236,183"
      ]
     },
     "execution_count": 3,
     "metadata": {},
     "output_type": "execute_result"
    }
   ],
   "source": [
    "df=df.transpose()\n",
    "df"
   ]
  },
  {
   "cell_type": "code",
   "execution_count": 5,
   "id": "cbf984e6",
   "metadata": {},
   "outputs": [
    {
     "data": {
      "text/plain": [
       "Text(0, 0.5, 'kg/day')"
      ]
     },
     "execution_count": 5,
     "metadata": {},
     "output_type": "execute_result"
    },
    {
     "data": {
      "image/png": "[encoded data removed]",
      "text/plain": [
       "<Figure size 432x288 with 1 Axes>"
      ]
     },
     "metadata": {
      "needs_background": "light"
     },
     "output_type": "display_data"
    }
   ],
   "source": [
    "data = df[1:]\n",
    "data\n",
    "fig, ax = plt.subplots()\n",
    "ax.bar([2015, 2016, 2017, 2018, 2019, 2020],data[2])\n",
    "plt.xlabel('year')\n",
    "plt.ylabel('kg/day')"
   ]
  }
 ],
 "metadata": {
  "kernelspec": {
   "display_name": "Python 3 (ipykernel)",
   "language": "python",
   "name": "python3"
  },
  "language_info": {
   "codemirror_mode": {
    "name": "ipython",
    "version": 3
   },
   "file_extension": ".py",
   "mimetype": "text/x-python",
   "name": "python",
   "nbconvert_exporter": "python",
   "pygments_lexer": "ipython3",
   "version": "3.9.12"
  }
 },
 "nbformat": 4,
 "nbformat_minor": 5
}

{
  "nbformat": 4,
  "nbformat_minor": 0,
  "metadata": {
    "colab": {
      "provenance": [],
      "collapsed_sections": []
    },
    "kernelspec": {
      "name": "python3",
      "display_name": "Python 3"
    },
    "language_info": {
      "name": "python"
    }
  },
  "cells": [
    {
      "cell_type": "code",
      "execution_count": null,
      "metadata": {
        "id": "GbsS8g1kb_xS"
      },
      "outputs": [],
      "source": [
        "import csv\n",
        "import matplotlib.pyplot as plt\n",
        "\n",
        "x=[]\n",
        "y=[]\n",
        "\n",
        "with open('/content/sample_data/전지구 연평균 해수면 높이.txt', 'r') as csvfile:\n",
        "  plots= csv.reader(csvfile, delimiter=',')\n",
        "  for row in plots:\n",
        "    x.append(float(row[0]))\n",
        "    y.append(float(row[1]))\n",
        "plt.figure()\n",
        "plt.plot(x,y,label='int load file')\n",
        "plt.xlabel('Year')\n",
        "plt.ylabel('domestic sea level deviation')\n",
        "plt.title('Change in domestic sea level')\n",
        "plt.savefig('DomesticSeaLevel.png',dpi=300)\n",
        "plt.close()    \n",
        " \n",
        "\n",
        "\n",
        "\n",
        "\n"
      ]
    },
    {
      "cell_type": "markdown",
      "source": [
        "# 새 섹션"
      ],
      "metadata": {
        "id": "_rgwuPtLEZ5p"
      }
    },
    {
      "cell_type": "markdown",
      "source": [
        "# 새 섹션"
      ],
      "metadata": {
        "id": "Ng7Ilwa0EXza"
      }
    }
  ]
}